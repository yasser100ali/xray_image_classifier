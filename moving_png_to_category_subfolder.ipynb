{
 "cells": [
  {
   "cell_type": "code",
   "execution_count": 21,
   "id": "aac3ba4a-d705-4d86-a2cb-95ff8e9e18ea",
   "metadata": {
    "tags": []
   },
   "outputs": [],
   "source": [
    "import os\n",
    "import pandas as pd\n",
    "import numpy as np\n",
    "import shutil"
   ]
  },
  {
   "cell_type": "code",
   "execution_count": 22,
   "id": "c392698b-1e6e-442b-bb57-454746c4e09a",
   "metadata": {},
   "outputs": [
    {
     "data": {
      "text/plain": [
       "0       0.0\n",
       "1       1.0\n",
       "2       0.0\n",
       "3       1.0\n",
       "4       0.0\n",
       "       ... \n",
       "9995    0.0\n",
       "9996    0.0\n",
       "9997    1.0\n",
       "9998    0.0\n",
       "9999    0.0\n",
       "Name: Finding, Length: 10000, dtype: float64"
      ]
     },
     "execution_count": 22,
     "metadata": {},
     "output_type": "execute_result"
    }
   ],
   "source": [
    "label_df = pd.read_csv('/Users/yasserali/Documents/coding/github_projects/xray_project/data (4).csv')\n",
    "y_labels = label_df[:10000]['Finding']\n",
    "y_labels"
   ]
  },
  {
   "cell_type": "code",
   "execution_count": 23,
   "id": "c82b9b88-64f7-4a07-890f-96322af1328a",
   "metadata": {},
   "outputs": [],
   "source": [
    "# objective is to move images part of class 0 to subfolder 0 and to move images part of class 1 to subfolder_1\n",
    "\n",
    "train_images_path = '/Users/yasserali/Documents/coding/github_projects/xray_project/Train_PNG/train_images'\n",
    "train_images_paths = [sorted(os.listdir(train_images_path))]\n",
    "len(train_images_paths[0])\n",
    "for file, label in zip(train_images_paths[0], y_labels):\n",
    "    source_file = os.path.join(train_images_path, file)\n",
    "\n",
    "    if label == 0:\n",
    "        destination_folder = '/Users/yasserali/Documents/subfolder_0'\n",
    "    else:\n",
    "        destination_folder = '/Users/yasserali/Documents/subfolder_1'\n",
    "    shutil.move(source_file, destination_folder)"
   ]
  },
  {
   "cell_type": "code",
   "execution_count": null,
   "id": "17028923-44fa-4cf9-91c0-094c545f5dd7",
   "metadata": {},
   "outputs": [],
   "source": []
  }
 ],
 "metadata": {
  "kernelspec": {
   "display_name": "Python 3 (ipykernel)",
   "language": "python",
   "name": "python3"
  },
  "language_info": {
   "codemirror_mode": {
    "name": "ipython",
    "version": 3
   },
   "file_extension": ".py",
   "mimetype": "text/x-python",
   "name": "python",
   "nbconvert_exporter": "python",
   "pygments_lexer": "ipython3",
   "version": "3.11.5"
  }
 },
 "nbformat": 4,
 "nbformat_minor": 5
}
